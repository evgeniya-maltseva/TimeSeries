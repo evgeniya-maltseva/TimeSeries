{
 "cells": [
  {
   "cell_type": "code",
   "execution_count": 10,
   "metadata": {},
   "outputs": [],
   "source": [
    "import pandas as pd\n",
    "import warnings\n",
    "import numpy as np\n",
    "import matplotlib.pyplot as plt\n",
    "import seaborn as sns\n",
    "import utils_data as ud\n",
    "import utils_info as info\n",
    "import utils_weather as uw\n",
    "import utils_matrixes as um\n",
    "import utils_regress as ur\n",
    "import utils_benchmark as ub\n",
    "import constants as cons\n",
    "from sklearn import metrics\n",
    "import statsmodels.api as sm\n",
    "from pylab import rcParams\n",
    "from openpyxl import load_workbook\n",
    "from pandas.plotting import register_matplotlib_converters\n",
    "register_matplotlib_converters()\n",
    "sns.set(font_scale=1.2)\n",
    "warnings.filterwarnings('ignore')\n",
    "\n",
    "pd.set_option(\"display.max_rows\", 999)"
   ]
  },
  {
   "cell_type": "code",
   "execution_count": 15,
   "metadata": {},
   "outputs": [],
   "source": [
    "'''\n",
    "\n",
    "Settings\n",
    "\n",
    "'''\n",
    "company = 'Company'\n",
    "hub = 'Hub1' # 'PORELENE', 'PTOMSKEN', 'PTOMSKES'\n",
    "compare_file_name = 'compare_file.xlsx'\n",
    "\n",
    "comparison_dir = cons.BENCHMARK_FOLDER\n",
    "horison = cons.FORECAST_HORISON\n",
    "timestep = cons.TIMESTEP_NAME\n",
    "compare_file_name = ud.get_filename(comparison_dir, company, hub, compare_file_name)\n",
    "model_name= 'dense'\n",
    "error_type = 'mape'             # or 'mape' or 'me'\n",
    "\n",
    "mode = 'network' # 'network', 'regress', 'from_file'\n",
    "\n",
    "#Do forecast inplace\n",
    "min_lag = 96\n",
    "start_date = pd.datetime(2019, 7, 20, 0, 0)\n",
    "end_date = pd.datetime(2019, 8, 3, 23,0)\n",
    "dates_range = pd.date_range(start_date - pd.Timedelta(70, unit='D'), end_date, freq='H')\n",
    "check_range = pd.date_range(start_date, end_date, freq='H')\n",
    "'''\n",
    "\n",
    "Main\n",
    "\n",
    "'''\n",
    "model_info = info.get_model_info(company, hub)\n",
    "actuals_data = ud.get_data(model_info['actuals_filename'], dates_range[0], \n",
    "                          dates_range[-1], custom_date_format = model_info['actuals_dateformat'])\n",
    "\n",
    "if mode == 'from_file':\n",
    "\n",
    "    xl = pd.ExcelFile(compare_file_name)\n",
    "    cmp_df = xl.parse(model_name)\n",
    "    print('This is the data of model', xl.sheet_names)\n",
    "    print('from ', cmp_df.timestep[0], 'to ', cmp_df.timestep.iloc[-1])\n",
    "    ud.get_accuracy(cmp_df.Fact, cmp_df.Prediction);\n",
    "    \n",
    "elif mode == 'network':\n",
    "    \n",
    "    model_settings_network = ud.load_model_settings(company, hub, min_lag, 'network')\n",
    "    network_data, pred_name = um.make_network_forecast(actuals_data.copy(), model_settings_network,\n",
    "                                                           model_info, dates_range[0], dates_range[-1])\n",
    "    cmp_df = network_data[[cons.TIMESERIES_TARGET_NAME, 'prediction', pred_name]].copy()\n",
    "            \n",
    "else:    \n",
    "    \n",
    "    model_settings_regress = ud.load_model_settings(company, hub, min_lag, 'regress')\n",
    "    regress_data, pred_name = um.make_regress_forecast(actuals_data.copy(), model_settings_regress,\n",
    "                                                           model_info, dates_range[0], dates_range[-1])\n",
    "    cmp_df = regress_data[[cons.TIMESERIES_TARGET_NAME, 'prediction', pred_name]].copy()\n",
    "    \n",
    "    \n",
    "if mode == 'network' or mode == 'regress':\n",
    "    \n",
    "    cmp_df = cmp_df.loc[check_range, :]\n",
    "    print('\\nModel error WITHOUT autoregress, prediction name = prediction:')\n",
    "    ud.get_accuracy(cmp_df[cons.TIMESERIES_TARGET_NAME], cmp_df.prediction);\n",
    "    print('\\nModel error WITH autoregress, prediction name = %s:' %(pred_name))\n",
    "    ud.get_accuracy(cmp_df[cons.TIMESERIES_TARGET_NAME], cmp_df[pred_name]);\n",
    "    \n",
    "    print('\\nEnter prediction name (prediction, %s):' % (pred_name))\n",
    "    prediction_name = input()        # one from predictions\n",
    "\n",
    "    cmp_df.rename(columns={cons.TIMESERIES_TARGET_NAME: 'Fact', prediction_name: 'Prediction'}, inplace=True)\n",
    "    cmp_df[cons.TIMESTEP_NAME] = cmp_df.index    \n",
    "    \n",
    "    print('\\nThe forecast of model %s (prediction name =  %s) will be analyzed' % (mode, prediction_name))\n",
    "    print('from ', cmp_df.timestep[0], 'to ', cmp_df.timestep.iloc[-1])\n",
    "    \n",
    "cmp_df['mae'] = np.abs(cmp_df.Fact - cmp_df.Prediction)\n",
    "cmp_df['mape'] = (np.abs((cmp_df.Fact - cmp_df.Prediction) / cmp_df.Fact)) * 100\n",
    "cmp_df['me'] = cmp_df.Fact - cmp_df.Prediction\n",
    "\n",
    "temp_df = ud.get_data(model_info['temperature_actuals_filename'], cmp_df.timestep[0], \n",
    "                          cmp_df.timestep.iloc[-1], \n",
    "                          custom_date_format = model_info['temperature_actuals_dateformat'])                      \n"
   ]
  },
  {
   "cell_type": "code",
   "execution_count": null,
   "metadata": {
    "scrolled": false
   },
   "outputs": [],
   "source": [
    "ub.mean_consumption_by_week(cmp_df)\n",
    "ub.mean_temperature_by_week(temp_df)\n",
    "ub.errors_by_week_line(cmp_df, error_type)\n",
    "week_df = ub.errors_by_week(cmp_df, error_type)"
   ]
  },
  {
   "cell_type": "code",
   "execution_count": null,
   "metadata": {},
   "outputs": [],
   "source": [
    "if cmp_df.shape[0] > 366*24:\n",
    "    ub.mean_consumption_by_month(cmp_df)\n",
    "    ub.errors_by_month_line(cmp_df, error_type)\n",
    "    month_df = ub.errors_by_month(cmp_df, error_type)"
   ]
  },
  {
   "cell_type": "code",
   "execution_count": null,
   "metadata": {},
   "outputs": [],
   "source": [
    "day_df = ub.errors_by_day(cmp_df,error_type)"
   ]
  },
  {
   "cell_type": "code",
   "execution_count": null,
   "metadata": {},
   "outputs": [],
   "source": [
    "hour_df = ub.errors_by_hour(cmp_df, error_type)"
   ]
  },
  {
   "cell_type": "code",
   "execution_count": null,
   "metadata": {},
   "outputs": [],
   "source": [
    "ub.plot_fact_preds(cmp_df, start_date, end_date)\n",
    "ub.plot_temperature(temp_df, start_date, end_date)\n"
   ]
  },
  {
   "cell_type": "code",
   "execution_count": null,
   "metadata": {},
   "outputs": [],
   "source": [
    "ub.plot_error(cmp_df, error_type)\n",
    "ub.plot_hist_error(cmp_df, error_type)"
   ]
  },
  {
   "cell_type": "code",
   "execution_count": null,
   "metadata": {},
   "outputs": [],
   "source": [
    "'''\n",
    "Write to excel\n",
    "'''\n",
    "if mode == 'from_file':\n",
    "    \n",
    "    book = load_workbook(compare_file_name)\n",
    "    writer = pd.ExcelWriter(compare_file_name, engine='openpyxl')\n",
    "    writer.book = book\n",
    "    \n",
    "    ws_titles = [ws.title for ws in book.worksheets]\n",
    "    \n",
    "    if model_name not in ws_titles:\n",
    "        \n",
    "        cmp_df.to_excel(writer, sheet_name=model_name)\n",
    "        \n",
    "    try:    \n",
    "    \n",
    "        hour_df.to_excel(writer, sheet_name=model_name + '_' + error_type, startrow=0, startcol=0)\n",
    "        day_df.to_excel(writer, sheet_name=model_name + '_' + error_type, startrow=0, startcol=5)\n",
    "        week_df.to_excel(writer, sheet_name=model_name + '_' + error_type, startrow=0, startcol=10)\n",
    "        month_df.to_excel(writer, sheet_name=model_name + '_' + error_type, startrow=0, startcol=15)\n",
    "    \n",
    "    except NameError:\n",
    "        pass\n",
    "    \n",
    "    if 'Sheet1' in ws_titles:\n",
    "        empty_sheet = book.get_sheet_by_name('Sheet1')\n",
    "        book.remove_sheet(empty_sheet)\n",
    "    \n",
    "    writer.save()\n",
    "    writer.close()\n",
    "    \n",
    "    print('Error values are loaded to ' + compare_file_name)"
   ]
  }
 ],
 "metadata": {
  "kernelspec": {
   "display_name": "Python 3",
   "language": "python",
   "name": "python3"
  },
  "language_info": {
   "codemirror_mode": {
    "name": "ipython",
    "version": 3
   },
   "file_extension": ".py",
   "mimetype": "text/x-python",
   "name": "python",
   "nbconvert_exporter": "python",
   "pygments_lexer": "ipython3",
   "version": "3.7.8"
  },
  "varInspector": {
   "cols": {
    "lenName": 16,
    "lenType": 16,
    "lenVar": 40
   },
   "kernels_config": {
    "python": {
     "delete_cmd_postfix": "",
     "delete_cmd_prefix": "del ",
     "library": "var_list.py",
     "varRefreshCmd": "print(var_dic_list())"
    },
    "r": {
     "delete_cmd_postfix": ") ",
     "delete_cmd_prefix": "rm(",
     "library": "var_list.r",
     "varRefreshCmd": "cat(var_dic_list()) "
    }
   },
   "types_to_exclude": [
    "module",
    "function",
    "builtin_function_or_method",
    "instance",
    "_Feature"
   ],
   "window_display": false
  }
 },
 "nbformat": 4,
 "nbformat_minor": 2
}
